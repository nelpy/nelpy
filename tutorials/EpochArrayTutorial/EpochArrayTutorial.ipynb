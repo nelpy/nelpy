{
 "cells": [
  {
   "cell_type": "markdown",
   "metadata": {},
   "source": [
    "# Introduction to `nelpy` EpochArrays"
   ]
  },
  {
   "cell_type": "markdown",
   "metadata": {},
   "source": [
    "# EpochArray\n",
    "\n",
    "## Overview\n",
    "\n",
    "In `nelpy`, all core data objects (`EpochArray`, `AnalogSignalArray`, `SpiketrainArray`, `BinnedSpiketrainArray`, etc.) have an associated and underlying `EpochArray`, including `EpochArray` itself.\n",
    "\n",
    "## What is an Epoch?\n",
    "\n",
    "An **Epoch** is simply a time interval. More specifically, epochs in `nelpy` are half-open intervals `I=[a, b)` measured in seconds. The `EpochArray` object defines a collection of epochs, along with common operations and transformations that can be performed on them.\n",
    "\n",
    "## What are EpochArrays used for?\n",
    "\n",
    "`EpochArray`s are fundamental to nelpy because they define **when data is defined**.\n",
    "\n",
    "### Example: Firing Rate Calculation\n",
    "\n",
    "Consider recording action potentials (spikes) from a single neuron with spike times:\n",
    "\n",
    "```\n",
    "spike_times = 1, 3, 4, 5, 9, 18 (seconds)\n",
    "```\n",
    "\n",
    "To compute even the simplest estimates like average firing rate, we need to know: _how long did we record for?_\n",
    "\n",
    "- If we observed these spike times over **1 minute**: \n",
    "  - Firing rate = 6 spikes / 60 seconds = **0.1 Hz**\n",
    "- If we observed the neuron only for `I=[0,20)`:\n",
    "  - Firing rate = 6 spikes / 20 seconds = **0.3 Hz**\n",
    "\n",
    "!!! info \"Key Insight\"\n",
    "    `EpochArrays` define **when the observed data is valid**, making rate calculations and other analyses meaningful.\n",
    "\n",
    "### Example: Data Subset Extraction\n",
    "\n",
    "`EpochArrays` make it easy to extract subsets of data for further analysis.\n",
    "\n",
    "**Scenario:**\n",
    "- LFP (local field potential) data on `I_LFP=[0,60)`\n",
    "- Animal run speed estimates on `I_speed = [3,27)`\n",
    "- Goal: Calculate average LFP _only during periods when the animal was running faster than some threshold_\n",
    "\n",
    "**Solution:**\n",
    "1. Determine epochs within `I_speed` that satisfy the speed criteria\n",
    "2. Store these epochs in a single `EpochArray`\n",
    "3. Directly index LFP with this new `EpochArray` to get the restricted subset\n",
    "\n",
    "!!! note \"Disclaimer\"\n",
    "    This example requires additional objects to be fully implemented, but conceptually this type of operation is very common and is made almost trivial with `EpochArrays`.\n",
    "\n",
    "## Support vs Domain\n",
    "\n",
    "### Support\n",
    "While technically a mathematical \"support\" of a function refers to the region on its domain where the function is non-zero, we use the term more loosely here:\n",
    "\n",
    "!!! info \"Nelpy Support Definition\"\n",
    "    A `nelpy` object's **support** is the region where the object (data) is defined.\n",
    "\n",
    "### Domain\n",
    "The **domain** specifies where the object (data) _could be defined_.\n",
    "\n",
    "- **Default domain:** All objects have a domain of `Ω = (-∞, ∞)`\n",
    "- **Purpose:** The domain is necessary when talking about complements\n",
    "- **Example:** In the default domain, the complement of `[a, b)` is `(-∞, a) ∪ [b, ∞)`\n",
    "\n",
    "### Key Distinction\n",
    "\n",
    "| Concept | Definition | Example |\n",
    "|---------|------------|---------|\n",
    "| **Support** | Where data _is_ defined | `[0, 10) ∪ [20, 30)` |\n",
    "| **Domain** | Where data _could be_ defined | `(-∞, ∞)` |\n",
    "| **Complement** | Domain minus support | `(-∞, 0) ∪ [10, 20) ∪ [30, ∞)` |"
   ]
  },
  {
   "cell_type": "markdown",
   "metadata": {},
   "source": [
    "## Set-Theoretic Operations\n",
    "\n",
    "Recall that the default domain for any `nelpy` object is $\\Omega = (-\\infty, \\infty)$. Several set-theoretic operations are available in `nelpy`:\n",
    "\n",
    "### Set Difference\n",
    "$A - B := \\{x \\in \\Omega : x\\in A, x \\notin B\\}$\n",
    "\n",
    "```python\n",
    "# nelpy syntax\n",
    "result = A - B\n",
    "```\n",
    "\n",
    "### Set Intersection\n",
    "$A \\cap B := \\{x \\in \\Omega : x\\in A, x\\in B\\}$\n",
    "\n",
    "```python\n",
    "# nelpy syntax (two equivalent forms)\n",
    "result = A & B\n",
    "result = A[B]\n",
    "```\n",
    "\n",
    "### Set Union\n",
    "$A \\cup B := \\{x \\in \\Omega : x\\in A \\text{ or } x\\in B\\}$\n",
    "\n",
    "```python\n",
    "# nelpy syntax\n",
    "result = A | B\n",
    "```\n",
    "\n",
    "### Set Complement\n",
    "$A^{\\text{c}} := \\{x \\in \\Omega : x \\notin A\\}$\n",
    "\n",
    "```python\n",
    "# nelpy syntax\n",
    "result = ~A\n",
    "```\n",
    "\n",
    "### Set Merger\n",
    "$\\text{merge}(A) := \\{x \\in \\Omega : x \\in A\\}$\n",
    "\n",
    "```python\n",
    "# nelpy syntax\n",
    "result = A.merge()\n",
    "```\n",
    "\n",
    "### Set Addition\n",
    "$A + B := \\{\\omega : \\omega \\in A \\text{ or } \\omega \\in B \\}$\n",
    "\n",
    "```python\n",
    "# nelpy syntax\n",
    "result = A + B\n",
    "```\n",
    "\n",
    "\n",
    "In the above definitions:\n",
    "\n",
    "$\\{x\\}$ are **samples** (individual time points)\n",
    "$\\{\\omega \\}$ are **epochs** (time intervals)"
   ]
  },
  {
   "cell_type": "markdown",
   "metadata": {},
   "source": [
    "### Importing nelpy"
   ]
  },
  {
   "cell_type": "code",
   "execution_count": 1,
   "metadata": {
    "collapsed": true
   },
   "outputs": [],
   "source": [
    "import nelpy as nel"
   ]
  },
  {
   "cell_type": "markdown",
   "metadata": {},
   "source": [
    "### Interacting with EpochArrays\n",
    "\n",
    "Frequently, `EpochArrays` will underlie other `nelpy` objects, and you won't need to worry about interacting with them too much. However, there are cases where direct manipulation and / or interaction can be very useful.\n",
    "\n",
    "First of all, all `nelpy` objects have human-readable `__repr__` methods that make it convenient to get a quick summary (and insight) of the data object. Let's take a closer look.\n",
    "\n",
    "We start by creating an `EpochArray` containing three disjoint intervals, namely `[0, 3) ∪ [5, 6) ∪ [10, 15)`:\n",
    "\n"
   ]
  },
  {
   "cell_type": "code",
   "execution_count": 2,
   "metadata": {
    "collapsed": false
   },
   "outputs": [],
   "source": [
    "ep = nel.EpochArray([[0, 3], [5, 6], [10, 15]])"
   ]
  },
  {
   "cell_type": "markdown",
   "metadata": {},
   "source": [
    "which we can look at either by calling `print()` on the `EpochArray` object, or by evaluating `ep` in the REPL."
   ]
  },
  {
   "cell_type": "code",
   "execution_count": 3,
   "metadata": {
    "collapsed": false
   },
   "outputs": [
    {
     "name": "stdout",
     "output_type": "stream",
     "text": [
      "<EpochArray at 0x1be4dae8a10: 3 epochs> of length 9 seconds\n"
     ]
    }
   ],
   "source": [
    "print(ep)"
   ]
  },
  {
   "cell_type": "markdown",
   "metadata": {},
   "source": [
    "Here we can see that we received immediate feedback, namely that there are 3 epochs inside the `EpochArray`, and that the total duration of those epochs is 9 seconds.\n",
    "\n",
    "Nelpy makes it easy to read durations of various magnitudes, and would print \"1:20 minutes\" for a duration of 80 seconds, and \"2:13:20 hours\" for a duration of 8000 seconds, for example.\n",
    "\n",
    "#TODO: add examples of operators, union, intersection, iteration, slicing, indexing, class attributes, plotting, ..."
   ]
  },
  {
   "cell_type": "markdown",
   "metadata": {},
   "source": [
    "### Now we add interactive widgets to explore transformations of EpochArrays"
   ]
  },
  {
   "cell_type": "code",
   "execution_count": 4,
   "metadata": {
    "collapsed": false
   },
   "outputs": [],
   "source": [
    "import warnings\n",
    "\n",
    "import matplotlib.pyplot as plt\n",
    "import numpy as np\n",
    "from ipywidgets import fixed, interact\n",
    "\n",
    "import nelpy.plotting as npl\n",
    "\n",
    "%matplotlib inline\n",
    "\n",
    "warnings.filterwarnings(\"ignore\")"
   ]
  },
  {
   "cell_type": "code",
   "execution_count": 5,
   "metadata": {
    "collapsed": false
   },
   "outputs": [],
   "source": [
    "times = np.array(\n",
    "    [\n",
    "        [1.0, 3.0],\n",
    "        [4.0, 8.0],\n",
    "        [12.0, 13.0],\n",
    "        [20.0, 25.0],\n",
    "        [1.0, 5.0],\n",
    "        [6.0, 7.0],\n",
    "        [15.0, 18.0],\n",
    "        [30.0, 35.0],\n",
    "    ]\n",
    ")\n",
    "ep1 = nel.EpochArray(times, domain=nel.EpochArray([0, 50]))"
   ]
  },
  {
   "cell_type": "code",
   "execution_count": 6,
   "metadata": {
    "collapsed": false
   },
   "outputs": [
    {
     "data": {
      "text/plain": [
       "array([[ 3.,  5.],\n",
       "       [ 4.,  5.],\n",
       "       [ 6.,  8.],\n",
       "       [ 6.,  7.],\n",
       "       [15., 18.],\n",
       "       [20., 25.],\n",
       "       [30., 35.]])"
      ]
     },
     "execution_count": 6,
     "metadata": {},
     "output_type": "execute_result"
    }
   ],
   "source": [
    "(ep1 - ep).time"
   ]
  },
  {
   "cell_type": "code",
   "execution_count": 7,
   "metadata": {
    "collapsed": false
   },
   "outputs": [
    {
     "data": {
      "text/plain": [
       "<EpochArray at 0x1be4f66cdd0: 1 epoch> of length 50 seconds"
      ]
     },
     "execution_count": 7,
     "metadata": {},
     "output_type": "execute_result"
    }
   ],
   "source": [
    "(ep1 + 5).domain"
   ]
  },
  {
   "cell_type": "code",
   "execution_count": 8,
   "metadata": {
    "collapsed": false
   },
   "outputs": [],
   "source": [
    "def epplt(epoch, expand=0, rshift=0, lshift=0, merge=False, complement=False):\n",
    "    fig = plt.figure(figsize=(16, 1))\n",
    "    ax = fig.add_subplot(111)\n",
    "\n",
    "    epoch = epoch + expand\n",
    "    epoch = epoch >> rshift\n",
    "    epoch = epoch << lshift\n",
    "    if merge:\n",
    "        epoch = epoch.merge()\n",
    "    if complement:\n",
    "        epoch = ~epoch\n",
    "    ax = npl.epochplot(epoch)\n",
    "    ax.set_xlim(epoch.domain.start, epoch.domain.stop)\n",
    "    npl.utils.clear_left_right(ax)\n",
    "    npl.utils.clear_top(ax)"
   ]
  },
  {
   "cell_type": "code",
   "execution_count": 9,
   "metadata": {
    "collapsed": false
   },
   "outputs": [
    {
     "data": {
      "application/vnd.jupyter.widget-view+json": {
       "model_id": "63c69037e1404a6f956ba28ab538d0be",
       "version_major": 2,
       "version_minor": 0
      },
      "text/plain": [
       "interactive(children=(FloatSlider(value=0.0, description='expand', max=2.5, min=-0.5), FloatSlider(value=0.0, …"
      ]
     },
     "metadata": {},
     "output_type": "display_data"
    },
    {
     "data": {
      "image/png": "[encoded data removed]",
      "text/plain": [
       "<Figure size 1600x100 with 1 Axes>"
      ]
     },
     "metadata": {},
     "output_type": "display_data"
    }
   ],
   "source": [
    "interact(\n",
    "    epplt,\n",
    "    epoch=fixed(ep1),\n",
    "    expand=(-0.5, 2.5, 0.1),\n",
    "    rshift=(0, 12.5, 0.5),\n",
    "    lshift=(0, 12, 0.5),\n",
    "    merge=False,\n",
    "    complement=False,\n",
    ");"
   ]
  },
  {
   "cell_type": "code",
   "execution_count": 10,
   "metadata": {
    "collapsed": false
   },
   "outputs": [
    {
     "data": {
      "text/plain": [
       "array([[ 1.,  3.],\n",
       "       [ 1.,  5.],\n",
       "       [ 4.,  8.],\n",
       "       [ 6.,  7.],\n",
       "       [12., 13.],\n",
       "       [15., 18.],\n",
       "       [20., 25.],\n",
       "       [30., 35.]])"
      ]
     },
     "execution_count": 10,
     "metadata": {},
     "output_type": "execute_result"
    }
   ],
   "source": [
    "ep1.time"
   ]
  },
  {
   "cell_type": "code",
   "execution_count": 11,
   "metadata": {
    "collapsed": false
   },
   "outputs": [
    {
     "data": {
      "text/plain": [
       "array([[-1.,  5.],\n",
       "       [-1.,  7.],\n",
       "       [ 2., 10.],\n",
       "       [ 4.,  9.],\n",
       "       [10., 15.],\n",
       "       [13., 20.],\n",
       "       [18., 27.],\n",
       "       [28., 37.]])"
      ]
     },
     "execution_count": 11,
     "metadata": {},
     "output_type": "execute_result"
    }
   ],
   "source": [
    "(ep1 + 2).time"
   ]
  },
  {
   "cell_type": "markdown",
   "metadata": {},
   "source": [
    "Recall that the default domain for any `nelpy` object is $\\Omega = (-\\infty, \\infty)$. Several set-theoretic operations are available in `nelpy`, namely:\n",
    " * Set difference: $$A - B := \\{x \\in \\Omega : x\\in A, x \\notin B\\}$$ `nelpy: A - B`\n",
    " * Set intersection $$A \\cap B := \\{x \\in \\Omega : x\\in A, x\\in B\\}$$ `nelpy: A & B` or `A[B]`\n",
    " * Set union $$A \\cup B := \\{x \\in \\Omega : x\\in A \\text{ or } x\\in B\\}$$ `nelpy: A | B`\n",
    " * Set complement $$A^{\\text{c}} := \\{x \\in \\Omega : x \\notin A\\}$$ `nelpy: ~A`\n",
    " * Set merger $$\\text{merge}(A) := \\{x \\in \\Omega : x \\in A\\}$$ `nelpy: A.merge()`\n",
    " * Set addition $$A + B := \\{\\omega : \\omega \\in A \\text{ or } \\omega \\in B \\}$$ `nelpy: A + B`\n",
    "\n",
    "where $\\{x\\}$ are samples, and $\\{\\omega\\}$ are epochs."
   ]
  }
 ],
 "metadata": {
  "anaconda-cloud": {},
  "kernelspec": {
   "display_name": "hpc_ctx_py_3_11",
   "language": "python",
   "name": "python3"
  },
  "language_info": {
   "codemirror_mode": {
    "name": "ipython",
    "version": 3
   },
   "file_extension": ".py",
   "mimetype": "text/x-python",
   "name": "python",
   "nbconvert_exporter": "python",
   "pygments_lexer": "ipython3",
   "version": "3.11.13"
  }
 },
 "nbformat": 4,
 "nbformat_minor": 1
}
