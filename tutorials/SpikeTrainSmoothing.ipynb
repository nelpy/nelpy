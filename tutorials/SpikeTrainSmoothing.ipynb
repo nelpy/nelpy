{
 "cells": [
  {
   "cell_type": "markdown",
   "metadata": {},
   "source": [
    "# SpikeTrain Smoothing"
   ]
  },
  {
   "cell_type": "markdown",
   "metadata": {},
   "source": [
    "## Goal:\n",
    "- exact convolution for spike density estimation (as opposed to convolution over a discretized, binned, space)"
   ]
  },
  {
   "cell_type": "markdown",
   "metadata": {},
   "source": [
    "In particular, given a `SpikeTrainArray` or a collection of events, we want to compute the exact smoothed version by convolving with a truncated Gaussian kernel. The kernel shape should be passed in as arguments (default trunc = 4 standard deviations, sigma = 100 ms), and from that, we need to determine the appropriate window specification and scale parameter for the Gaussian kernel.\n",
    "\n",
    "Furthermore, we need to think about how we want to deal with edge conditions. We may want to do smoothing (1) within, or (2) across epochs. Furthermore, we may want to do (i) natural smoothing, cutting off any mass outside of the support, or we may choose to (ii) clump at the edge, or (iii) reflect at the edges, or (iv) re-adjust after-the-fact, etc.\n",
    "\n",
    "I personally think natural smoothing with support for either within or across epoch smoothing would be perfect."
   ]
  },
  {
   "cell_type": "code",
   "execution_count": 1,
   "metadata": {},
   "outputs": [
    {
     "name": "stderr",
     "output_type": "stream",
     "text": [
      "/home/etienne/anaconda3/lib/python3.6/site-packages/mpl_toolkits/axes_grid/__init__.py:12: MatplotlibDeprecationWarning: \n",
      "The mpl_toolkits.axes_grid module was deprecated in Matplotlib 2.1 and will be removed two minor releases later. Use mpl_toolkits.axes_grid1 and mpl_toolkits.axisartist, which provide the same functionality instead.\n"
     ]
    }
   ],
   "source": [
    "import numpy as np\n",
    "import matplotlib.pyplot as plt\n",
    "import scipy.stats\n",
    "\n",
    "import nelpy as nel\n",
    "\n",
    "%matplotlib inline"
   ]
  },
  {
   "cell_type": "markdown",
   "metadata": {},
   "source": [
    "## Exact convolution for spike density estimation\n",
    "\n",
    "Usually we have to do something like this to get better decoding performance:\n",
    "\n",
    "```python\n",
    "ds_run = 0.125\n",
    "ds_50ms = 0.05\n",
    "st_run = st[run_epochs]\n",
    "\n",
    "# smooth and re-bin:\n",
    "sigma = 0.3 # 300 ms spike smoothing\n",
    "bst_run = st_run.bin(ds=ds_50ms).smooth(sigma=sigma, inplace=True).rebin(w=ds_run/ds_50ms)\n",
    "\n",
    "sigma = 3.1; # smoothing std dev in cm\n",
    "tc = nel.TuningCurve1D(bst=bst_run, extern=pos1d, n_extern=100, extmin=0, extmax=180, sigma=sigma, min_duration=0)\n",
    "```\n",
    "\n",
    "But we can do better than binning-then-smoothing! We can concolve directly (and exactly), which better preserves the fine temporal dynamics in the spikes."
   ]
  },
  {
   "cell_type": "markdown",
   "metadata": {},
   "source": [
    "* create bins within which to aggregate\n",
    "* compute bin centers\n",
    "* compute offsets and bin_idx for each spike\n",
    "* compute weight vector for each spike\n",
    "* aggregate spike weights into the appropriate bins, by using bin_idx from above\n",
    "* how about edge conditions? how about different epochs? how about which bins to keep, finally?"
   ]
  },
  {
   "cell_type": "markdown",
   "metadata": {},
   "source": [
    "## example convolution\n",
    "\n",
    "```python\n",
    "bins = [0, 0.2, 0.4, 0.6, 0.8, 1.0]\n",
    "spikes = [0.1, 0.3, 0.55, 0.56, 0.57, 0.58, 0.59, 0.62, 0.9]\n",
    "```\n",
    "\n",
    "In the above example, if we binned first, we would obtain\n",
    "```python\n",
    "binned = [1, 1, 5, 1, 1]\n",
    "```\n",
    "so that the 5 spikes in the 3rd bin would be symmetrically smoothed to both the 2nd and 4th bins (and, depending on the size of the smoothing kernel, also to the 1st and 5th bins).\n",
    "\n",
    "However, closer inspection of the spike times reveals that they are heavily concentrated close to the right edge of the 2nd bin. In addition, the single spike in the 4th bin is close to the left edge of bin 4, so that the TRUE spike density should not have the same value at both the 2nd and 4th bins."
   ]
  },
  {
   "cell_type": "code",
   "execution_count": 2,
   "metadata": {},
   "outputs": [],
   "source": [
    "bins = np.array([0, 0.2, 0.4, 0.6, 0.8, 1.0])\n",
    "spikes = np.array([0.1, 0.3, 0.55, 0.56, 0.57, 0.58, 0.59, 0.62, 0.9])"
   ]
  },
  {
   "cell_type": "code",
   "execution_count": 3,
   "metadata": {},
   "outputs": [
    {
     "name": "stderr",
     "output_type": "stream",
     "text": [
      "WARNING:root:No sampling rate was specified! Assuming default of 30000 Hz.\n"
     ]
    },
    {
     "data": {
      "image/png": "[encoded data removed]",
      "text/plain": [
       "<Figure size 864x288 with 2 Axes>"
      ]
     },
     "metadata": {
      "needs_background": "light"
     },
     "output_type": "display_data"
    }
   ],
   "source": [
    "st = nel.SpikeTrainArray(spikes)\n",
    "st.support = [0,1]\n",
    "\n",
    "ds = 0.2\n",
    "\n",
    "fig = plt.figure(figsize=(12,4))\n",
    "plt.subplot(1, 2, 1)\n",
    "\n",
    "# bin without smoothing\n",
    "bst = st.bin(ds=ds)\n",
    "n_bins = bst.n_bins\n",
    "\n",
    "plt.bar(range(n_bins), bst.data.squeeze())\n",
    "plt.title('binning without smoothing')\n",
    "\n",
    "plt.subplot(1, 2, 2)\n",
    "# smooth and re-bin:\n",
    "dss = 0.01\n",
    "sigma = 0.1 # 100 ms spike smoothing\n",
    "bst = st.bin(ds=dss).smooth(sigma=sigma, inplace=True).rebin(w=ds/dss)\n",
    "\n",
    "plt.bar(range(n_bins), bst.data.squeeze())\n",
    "plt.title('smoothing by binning to a fine bin size first')\n",
    "\n",
    "assert bst.data.sum() == 9, \"The sum must equal 9, because we had nine spikes to spread over the bins\""
   ]
  },
  {
   "cell_type": "markdown",
   "metadata": {},
   "source": [
    "### Work in progress"
   ]
  },
  {
   "cell_type": "markdown",
   "metadata": {},
   "source": [
    "* We need to relate sigma to the scale and bw, so that we can set the proper scale, and have the proper window\n",
    "* We also need to deal elegantly with edge conditions, within or across epochs"
   ]
  },
  {
   "cell_type": "code",
   "execution_count": 22,
   "metadata": {},
   "outputs": [
    {
     "data": {
      "text/plain": [
       "<BarContainer object of 5 artists>"
      ]
     },
     "execution_count": 22,
     "metadata": {},
     "output_type": "execute_result"
    },
    {
     "data": {
      "image/png": "[encoded data removed]",
      "text/plain": [
       "<Figure size 432x288 with 1 Axes>"
      ]
     },
     "metadata": {
      "needs_background": "light"
     },
     "output_type": "display_data"
    }
   ],
   "source": [
    "bin_indices = np.digitize(spikes, bins) - 1\n",
    "offsets =  ds/2 - spikes + bins[bin_indices] # offset for each spike from the bin start, to the spike event\n",
    "\n",
    "n_spikes = len(spikes)\n",
    "n_bins = len(bins) - 1\n",
    "\n",
    "bw = 1\n",
    "window = np.array([[-1,0,1]])\n",
    "weights = (np.repeat(np.array([[-.1,0,.1]]), n_spikes, axis=0).T + offsets/2).T\n",
    "weights = scipy.stats.norm.pdf(weights, scale=0.055)\n",
    "\n",
    "# weights = np.hstack((np.fliplr(weights[:,1:]), weights))\n",
    "weights = (weights.T/weights.sum(axis=1)).T\n",
    "\n",
    "data = np.zeros(n_bins)\n",
    "for weight_vector, bin_idx in zip(weights, bin_indices):\n",
    "    # decide how to deal with edge effects: across epochs? within epochs? reflect? natural?\n",
    "    # for now, we ignore any mass outside of the epoch\n",
    "    bin_range = (window + bin_idx).squeeze()\n",
    "    weight_vector = weight_vector[(bin_range>-1) & (bin_range<n_bins)]\n",
    "    bin_range = bin_range[(bin_range>-1) & (bin_range <n_bins)]\n",
    "#     print('bin_range', bin_range)\n",
    "    try:\n",
    "        data[bin_range] += weight_vector\n",
    "    except:\n",
    "        pass\n",
    "    \n",
    "plt.bar(range(n_bins),data)"
   ]
  },
  {
   "cell_type": "markdown",
   "metadata": {},
   "source": [
    "## Discussion\n",
    "\n",
    "This notebook is not meant to be an efficient, nor a guaranteed-to-be-correct implementation, but rather a proof-of-concept starting point for thinking about the smoothing-before-binning approach. Savva has made some good progress in making this more useful and efficient, so this is only for quick reference."
   ]
  }
 ],
 "metadata": {
  "kernelspec": {
   "display_name": "Python 3",
   "language": "python",
   "name": "python3"
  },
  "language_info": {
   "codemirror_mode": {
    "name": "ipython",
    "version": 3
   },
   "file_extension": ".py",
   "mimetype": "text/x-python",
   "name": "python",
   "nbconvert_exporter": "python",
   "pygments_lexer": "ipython3",
   "version": "3.6.8"
  }
 },
 "nbformat": 4,
 "nbformat_minor": 2
}
